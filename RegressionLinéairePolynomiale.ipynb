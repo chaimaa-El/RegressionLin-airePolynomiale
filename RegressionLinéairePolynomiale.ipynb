{
 "cells": [
  {
   "cell_type": "markdown",
   "id": "e65bcd26",
   "metadata": {},
   "source": [
    "# Régression linéaire\n",
    "\n"
   ]
  },
  {
   "cell_type": "code",
   "execution_count": 3,
   "id": "77c6b623",
   "metadata": {},
   "outputs": [],
   "source": [
    "import pandas as pd\n",
    "import matplotlib.pyplot as plt\n",
    "from scipy import stats\n",
    "df = pd.read_csv(\"univariate_linear_regression_dataset.csv\")\n",
    "\n"
   ]
  },
  {
   "cell_type": "code",
   "execution_count": 26,
   "id": "ec474223",
   "metadata": {},
   "outputs": [
    {
     "data": {
      "image/png": "[encoded data removed]",
      "text/plain": [
       "<Figure size 432x288 with 1 Axes>"
      ]
     },
     "metadata": {
      "needs_background": "light"
     },
     "output_type": "display_data"
    }
   ],
   "source": [
    "X = df.iloc[:,0]\n",
    "Y = df.iloc[:,1]\n",
    "axes = plt.axes()\n",
    "axes.grid()\n",
    "plt.scatter(X,Y)\n",
    "plt.show()\n",
    "\n",
    "\n"
   ]
  },
  {
   "cell_type": "code",
   "execution_count": 28,
   "id": "82a3b3cb",
   "metadata": {},
   "outputs": [],
   "source": [
    "SL=stats.linregress(X, Y)\n",
    "slope=SL.slope; intercept=SL.intercept; coef_correlation=SL.rvalue\n",
    "def predict(x):\n",
    "    return slope * x + intercept\n",
    "    \n"
   ]
  },
  {
   "cell_type": "code",
   "execution_count": 29,
   "id": "e424b7d5",
   "metadata": {},
   "outputs": [
    {
     "data": {
      "image/png": "[encoded data removed]",
      "text/plain": [
       "<Figure size 432x288 with 1 Axes>"
      ]
     },
     "metadata": {
      "needs_background": "light"
     },
     "output_type": "display_data"
    }
   ],
   "source": [
    "axes = plt.axes()\n",
    "axes.grid()\n",
    "plt.scatter(X,Y)\n",
    "fitLine = predict(X)\n",
    "plt.plot(X, fitLine, c='r')\n",
    "plt.show() "
   ]
  },
  {
   "cell_type": "code",
   "execution_count": 31,
   "id": "8f95f270",
   "metadata": {},
   "outputs": [
    {
     "name": "stdout",
     "output_type": "stream",
     "text": [
      "1.2135472539083587 -4.211504005424093\n"
     ]
    }
   ],
   "source": [
    "print(slope,intercept)"
   ]
  },
  {
   "cell_type": "code",
   "execution_count": 32,
   "id": "c9b2cb2b",
   "metadata": {},
   "outputs": [
    {
     "data": {
      "text/plain": [
       "23.09330920751398"
      ]
     },
     "execution_count": 32,
     "metadata": {},
     "output_type": "execute_result"
    }
   ],
   "source": [
    "predict(22.5)\n"
   ]
  },
  {
   "cell_type": "markdown",
   "id": "f29a547a",
   "metadata": {},
   "source": [
    "# Régression Polynomiale"
   ]
  },
  {
   "cell_type": "code",
   "execution_count": 1,
   "id": "8590eb84",
   "metadata": {},
   "outputs": [],
   "source": [
    "import numpy as np\n",
    "import pandas as pd\n",
    "import matplotlib.pyplot as plt\n",
    "data = pd.read_csv(\"dataset_polynomial3.csv\").values\n",
    "X = data[1:1001,0]\n",
    "Y = data[1:1001,1]\n",
    "def affficher_pol(LPol):\n",
    "    L=LPol[:];L.reverse()\n",
    "    L=[round(e,2)for e in L]\n",
    "    for i in range (len(L)):\n",
    "        print('('+str(L[i])+'*'')')"
   ]
  },
  {
   "cell_type": "code",
   "execution_count": 2,
   "id": "2ba427de",
   "metadata": {},
   "outputs": [
    {
     "data": {
      "text/plain": [
       "array([[ 2.69151718, -0.48494203],\n",
       "       [ 1.33394826,  0.39681172],\n",
       "       [ 0.71045428, -0.8569272 ],\n",
       "       ...,\n",
       "       [ 0.13748415, -6.83358907],\n",
       "       [ 0.75902601, -0.70444958],\n",
       "       [ 3.99489162,  6.33265488]])"
      ]
     },
     "execution_count": 2,
     "metadata": {},
     "output_type": "execute_result"
    }
   ],
   "source": [
    "data"
   ]
  },
  {
   "cell_type": "code",
   "execution_count": null,
   "id": "887093ae",
   "metadata": {},
   "outputs": [],
   "source": []
  }
 ],
 "metadata": {
  "kernelspec": {
   "display_name": "Python 3 (ipykernel)",
   "language": "python",
   "name": "python3"
  },
  "language_info": {
   "codemirror_mode": {
    "name": "ipython",
    "version": 3
   },
   "file_extension": ".py",
   "mimetype": "text/x-python",
   "name": "python",
   "nbconvert_exporter": "python",
   "pygments_lexer": "ipython3",
   "version": "3.9.7"
  }
 },
 "nbformat": 4,
 "nbformat_minor": 5
}
